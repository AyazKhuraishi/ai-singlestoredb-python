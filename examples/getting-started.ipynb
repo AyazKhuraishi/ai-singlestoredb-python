{
 "cells": [
  {
   "cell_type": "markdown",
   "id": "62b6c088-7c2b-466f-ad77-89c6aca66394",
   "metadata": {},
   "source": [
    "# Getting Started"
   ]
  },
  {
   "cell_type": "markdown",
   "id": "b4a23365-4716-4e6f-a4ff-7f2299a0d9e4",
   "metadata": {},
   "source": [
    "## Install the SingleStore package"
   ]
  },
  {
   "cell_type": "markdown",
   "id": "217dd604-a72e-487d-abea-cb2774d1ff4b",
   "metadata": {},
   "source": [
    "The SingleStore package can be installed the following way:\n",
    "```\n",
    "pip install singlestoredb\n",
    "```\n",
    "\n",
    "In addition, you can install the SQLAlchemy and Ibis plugins with the following:\n",
    "```\n",
    "pip install singlestore[dataframe]\n",
    "```"
   ]
  },
  {
   "cell_type": "markdown",
   "id": "f8a8f0c7-efbe-4e50-9301-97907bb23058",
   "metadata": {},
   "source": [
    "## Import SingleStore"
   ]
  },
  {
   "cell_type": "code",
   "execution_count": 1,
   "id": "57f25a65-1047-4762-8902-541bedeb09dc",
   "metadata": {},
   "outputs": [],
   "source": [
    "import singlestoredb as s2"
   ]
  },
  {
   "cell_type": "markdown",
   "id": "bc135df9-5d16-4b02-95ca-20fff30250a2",
   "metadata": {},
   "source": [
    "## Create a connection\n",
    "\n",
    "This function is compliant with the Python DB-API 2.0. In addition, it allows you to use a URL\n",
    "as a connection string rather than individual parameters. Parameters may also be set using\n",
    "environment variable (e.g., `SINGLESTOREDB_HOST`, `SINGLESTOREDB_USER`, `SINGLESTOREDB_PASSWORD`, etc.),\n",
    "but it is easiest to specify the entire URL in the `SINGLESTOREDB_URL` environment variable."
   ]
  },
  {
   "cell_type": "code",
   "execution_count": 2,
   "id": "42e64509-a074-41a4-a6e2-6e33f83d74ea",
   "metadata": {},
   "outputs": [],
   "source": [
    "conn_url = 'root:@127.0.0.1/x_db'"
   ]
  },
  {
   "cell_type": "code",
   "execution_count": 3,
   "id": "5dd638be-7c8f-4c0b-8d78-63ee150b3575",
   "metadata": {},
   "outputs": [],
   "source": [
    "conn = s2.connect(conn_url)"
   ]
  },
  {
   "cell_type": "markdown",
   "id": "8ad96263-013f-46cb-a62c-067801f368f8",
   "metadata": {},
   "source": [
    "The URL in the code above can take a couple of forms. The default driver is `mysql`, but you can also specify `http` for connecting to the SingleStoreDB data API.\n",
    "```\n",
    "http://root:@localhost:9000/x_db\n",
    "```"
   ]
  },
  {
   "cell_type": "markdown",
   "id": "07898bd5-2751-463d-aaaf-3e41b01b3ce6",
   "metadata": {},
   "source": [
    "### Environment Variables\n",
    "\n",
    "Connection URLs can also be set using an environment variable. This allows you to create environments that already have connection parameters\n",
    "embedded in them so that new connections can be made without specifying any parameters."
   ]
  },
  {
   "cell_type": "code",
   "execution_count": 4,
   "id": "9449bb3b-c549-4cd8-8e5f-2fcb04027edc",
   "metadata": {},
   "outputs": [],
   "source": [
    "import os\n",
    "\n",
    "os.environ['SINGLESTOREDB_URL'] = conn_url"
   ]
  },
  {
   "cell_type": "markdown",
   "id": "3eb8044c-7176-4dbe-b8a8-e8f3eb649888",
   "metadata": {},
   "source": [
    "### Cursors\n",
    "\n",
    "Most interaction with databases are done using cursors. To create a cursor from a connection, you use the `cursor` method."
   ]
  },
  {
   "cell_type": "code",
   "execution_count": 5,
   "id": "f08641b5-31db-460c-8e3a-c6fec2c0aa60",
   "metadata": {},
   "outputs": [],
   "source": [
    "cur = conn.cursor()"
   ]
  },
  {
   "cell_type": "markdown",
   "id": "309fccfb-7d45-4d6b-8bae-3102ecbb5dc8",
   "metadata": {},
   "source": [
    "## Create tables and insert data"
   ]
  },
  {
   "cell_type": "markdown",
   "id": "52184f98-b9c7-4350-91d7-d71230a6b4ec",
   "metadata": {},
   "source": [
    "Using the cursor, we can execute commands for creating tables and inserting data."
   ]
  },
  {
   "cell_type": "markdown",
   "id": "3c8ba00a-76e5-46c2-b955-a88e26387d27",
   "metadata": {},
   "source": [
    "### Reset Tables"
   ]
  },
  {
   "cell_type": "code",
   "execution_count": 6,
   "id": "d3987ba6-bc54-404f-add8-f92e98de0be0",
   "metadata": {},
   "outputs": [
    {
     "data": {
      "text/plain": [
       "0"
      ]
     },
     "execution_count": 6,
     "metadata": {},
     "output_type": "execute_result"
    }
   ],
   "source": [
    "cur.execute(r'drop table if exists departments')\n",
    "cur.execute(r'drop table if exists employees')\n",
    "cur.execute(r'drop table if exists salaries')\n",
    "\n",
    "cur.execute(r'''\n",
    "create table if not exists departments (\n",
    "  id int,\n",
    "  name varchar(255),\n",
    "  primary key (id)\n",
    ");''')\n",
    "\n",
    "cur.execute(r'''\n",
    "create table if not exists employees (\n",
    "  id int,\n",
    "  deptId int,\n",
    "  managerId int,\n",
    "  name varchar(255),\n",
    "  hireDate date,\n",
    "  state char(2),\n",
    "  primary key (id)\n",
    ");''')\n",
    "\n",
    "cur.execute(r'''\n",
    "create table if not exists salaries (\n",
    "  employeeId int,\n",
    "  salary int,\n",
    "  primary key (employeeId)\n",
    ");''')"
   ]
  },
  {
   "cell_type": "markdown",
   "id": "505f14d4-a41c-40ff-a95d-6f5dd8dd8c55",
   "metadata": {},
   "source": [
    "### Insert Data Using Named Parameters\n",
    "\n",
    "Using named parameters such as `:foo` is the default parameter format in queries. This requires dictionaries for the parameter structure."
   ]
  },
  {
   "cell_type": "code",
   "execution_count": 7,
   "id": "7dbc5822-dcf5-47e3-85b4-accae6334119",
   "metadata": {},
   "outputs": [
    {
     "data": {
      "text/plain": [
       "4"
      ]
     },
     "execution_count": 7,
     "metadata": {},
     "output_type": "execute_result"
    }
   ],
   "source": [
    "cur.executemany(r'insert into departments(id, name) values (%(id)s, %(name)s)',\n",
    "    [\n",
    "        dict(id=1, name='Marketing'),\n",
    "        dict(id=2, name='Finance'),\n",
    "        dict(id=3, name='Sales'),\n",
    "        dict(id=4, name='Customer Service'),\n",
    "    ]\n",
    ")"
   ]
  },
  {
   "cell_type": "markdown",
   "id": "bd4cc0d3-a263-479c-999a-b69ad6ffce49",
   "metadata": {},
   "source": [
    "### Insert Data Using Positional Parameters\n",
    "\n",
    "You can also use positional parameters which specify the one-based index in a list or tuple."
   ]
  },
  {
   "cell_type": "code",
   "execution_count": 8,
   "id": "8b3c53cb-1620-47af-89ec-6900a115fbd7",
   "metadata": {},
   "outputs": [
    {
     "data": {
      "text/plain": [
       "10"
      ]
     },
     "execution_count": 8,
     "metadata": {},
     "output_type": "execute_result"
    }
   ],
   "source": [
    "cur.executemany(r'insert into employees (id, deptId, managerId, name, hireDate, state) '\n",
    "                r'values (%s, %s, %s, %s, %s, %s)',\n",
    "    [\n",
    "        (1, 2, None, \"Karly Steele\", \"2011-08-25\", \"NY\"),\n",
    "        (2, 1, 1, \"Rhona Nichols\", \"2008-09-11\", \"TX\"),\n",
    "        (3, 4, 2, \"Hedda Kent\", \"2005-10-27\", \"TX\"),\n",
    "        (4, 2, 1, \"Orli Strong\", \"2001-07-01\", \"NY\"),\n",
    "        (5, 1, 1, \"Leonard Haynes\", \"2011-05-30\", \"MS\"),\n",
    "        (6, 1, 5, \"Colette Payne\", \"2002-10-22\", \"MS\"),\n",
    "        (7, 3, 4, \"Cooper Hatfield\", \"2010-08-19\", \"NY\"),\n",
    "        (8, 2, 4, \"Timothy Battle\", \"2001-01-21\", \"NY\"),\n",
    "        (9, 3, 1, \"Doris Munoz\", \"2008-10-22\", \"NY\"),\n",
    "        (10, 4, 2, \"Alea Wiggins\", \"2007-08-21\", \"TX\"),\n",
    "    ]\n",
    ")"
   ]
  },
  {
   "cell_type": "markdown",
   "id": "e12bc405-d69b-43cd-942d-9c99784914c2",
   "metadata": {},
   "source": [
    "### Insert Data From DataFrame"
   ]
  },
  {
   "cell_type": "markdown",
   "id": "ec129e27-a410-48a6-8aff-639b9fb8a673",
   "metadata": {},
   "source": [
    "In addition to this method, you can use the `pandas.DataFrame.to_sql` method with a SQLAlchemy SingleStore connection object."
   ]
  },
  {
   "cell_type": "code",
   "execution_count": 9,
   "id": "d9f35844-a6e8-411a-acc1-0b938195de27",
   "metadata": {},
   "outputs": [
    {
     "data": {
      "text/plain": [
       "10"
      ]
     },
     "execution_count": 9,
     "metadata": {},
     "output_type": "execute_result"
    }
   ],
   "source": [
    "import pandas as pd\n",
    "\n",
    "df = pd.DataFrame( \n",
    "    [\n",
    "        (1, 885219), \n",
    "        (2, 451519), \n",
    "        (3, 288905), \n",
    "        (4, 904312), \n",
    "        (5, 919124),\n",
    "        (6, 101538), \n",
    "        (7, 355077), \n",
    "        (8, 900436), \n",
    "        (9, 41557), \n",
    "        (10, 556263),\n",
    "    ],\n",
    "    columns=['employeeId', 'salary'])\n",
    "\n",
    "cur.executemany(r'insert into salaries (employeeId, salary) '\n",
    "                r'values (%s, %s)', df)"
   ]
  },
  {
   "cell_type": "markdown",
   "id": "d26b9be3-d7e0-4c90-8b75-5b36f015e9cb",
   "metadata": {},
   "source": [
    "# Querying data"
   ]
  },
  {
   "cell_type": "markdown",
   "id": "301d3c5d-f3e7-4c75-a0fe-c3c9ca889b57",
   "metadata": {},
   "source": [
    "Here we are executing a simple `SELECT` operation."
   ]
  },
  {
   "cell_type": "code",
   "execution_count": 10,
   "id": "3b5e07ce-3586-48cf-9cd2-b77374250c1b",
   "metadata": {},
   "outputs": [
    {
     "data": {
      "text/plain": [
       "10"
      ]
     },
     "execution_count": 10,
     "metadata": {},
     "output_type": "execute_result"
    }
   ],
   "source": [
    "cur.execute('select name from employees')"
   ]
  },
  {
   "cell_type": "markdown",
   "id": "71cca025-fb02-450e-ae4a-ee2767157753",
   "metadata": {},
   "source": [
    "There are various ways of fetching data including the `fetchone()`, `fetchmany()`, and `fetchall()` methods\n",
    "description in the DB-API. In addition, you can simply iterate over the cursor itself."
   ]
  },
  {
   "cell_type": "code",
   "execution_count": 11,
   "id": "6881d2df-0dde-4709-8f91-2f0a100d311b",
   "metadata": {},
   "outputs": [
    {
     "name": "stdout",
     "output_type": "stream",
     "text": [
      "('Karly Steele',)\n",
      "('Rhona Nichols',)\n",
      "('Hedda Kent',)\n",
      "('Orli Strong',)\n",
      "('Cooper Hatfield',)\n",
      "('Doris Munoz',)\n",
      "('Leonard Haynes',)\n",
      "('Colette Payne',)\n",
      "('Timothy Battle',)\n",
      "('Alea Wiggins',)\n"
     ]
    }
   ],
   "source": [
    "for item in cur:\n",
    "    print(item)"
   ]
  },
  {
   "cell_type": "markdown",
   "id": "f1e5df6e-3985-4a3d-91ae-b8943b397708",
   "metadata": {},
   "source": [
    "By default, results come back in tuples, but there are other result structure options as well, they include `namedtuple` and `dict`."
   ]
  },
  {
   "cell_type": "code",
   "execution_count": 12,
   "id": "5025706a-1ac5-463c-bcb4-a2911df49e9f",
   "metadata": {},
   "outputs": [],
   "source": [
    "conn = s2.connect(conn_url, results_type='dicts')"
   ]
  },
  {
   "cell_type": "code",
   "execution_count": 13,
   "id": "caece6cc-78fa-4cfc-b488-e7ba7a63baed",
   "metadata": {},
   "outputs": [
    {
     "data": {
      "text/plain": [
       "[{'name': 'Karly Steele'},\n",
       " {'name': 'Rhona Nichols'},\n",
       " {'name': 'Hedda Kent'},\n",
       " {'name': 'Orli Strong'},\n",
       " {'name': 'Cooper Hatfield'},\n",
       " {'name': 'Doris Munoz'},\n",
       " {'name': 'Timothy Battle'},\n",
       " {'name': 'Alea Wiggins'},\n",
       " {'name': 'Leonard Haynes'},\n",
       " {'name': 'Colette Payne'}]"
      ]
     },
     "execution_count": 13,
     "metadata": {},
     "output_type": "execute_result"
    }
   ],
   "source": [
    "cur = conn.cursor()\n",
    "cur.execute('select name from employees')\n",
    "cur.fetchall()"
   ]
  },
  {
   "cell_type": "markdown",
   "id": "e06b039d-5c55-43bd-ba35-46693fcc5bcd",
   "metadata": {},
   "source": [
    "The following is a query using parameter substitution. While the underlying connection object is a `mysql.connector`-based\n",
    "object which takes the pyformat parameter format, we are using the `sqlparams` package to allow us to \n",
    "use whatever substitution form we want. Since the HTTP API uses question marks for parameters, we have\n",
    "adopted that format here as well."
   ]
  },
  {
   "cell_type": "code",
   "execution_count": 14,
   "id": "21332da7-c493-4afe-bff8-77ce6f1f9fa6",
   "metadata": {},
   "outputs": [
    {
     "data": {
      "text/plain": [
       "1"
      ]
     },
     "execution_count": 14,
     "metadata": {},
     "output_type": "execute_result"
    }
   ],
   "source": [
    "cur.execute('select name, hireDate from employees where name like %s', ['%Rhona%'])"
   ]
  },
  {
   "cell_type": "markdown",
   "id": "3a0c4843-bb67-4c79-abe9-b12b5bcd7548",
   "metadata": {},
   "source": [
    "The `description` field returns information about the query results. It includes fields such as `name`, `type_code`,\n",
    "`display_size`, `internal_size`, etc. These are defined in the DB-API, but are not all populated."
   ]
  },
  {
   "cell_type": "code",
   "execution_count": 15,
   "id": "57540c70-2b90-41e2-b25c-80cb9c6a972b",
   "metadata": {},
   "outputs": [
    {
     "data": {
      "text/plain": [
       "(Description(name='name', type_code=253, display_size=None, internal_size=255, precision=255, scale=0, null_ok=True, flags=0, charset=33),\n",
       " Description(name='hireDate', type_code=10, display_size=None, internal_size=30, precision=30, scale=31, null_ok=True, flags=0, charset=33))"
      ]
     },
     "execution_count": 15,
     "metadata": {},
     "output_type": "execute_result"
    }
   ],
   "source": [
    "cur.description"
   ]
  },
  {
   "cell_type": "code",
   "execution_count": 16,
   "id": "6a8954a9-1251-4222-8532-768867556f7e",
   "metadata": {},
   "outputs": [
    {
     "data": {
      "text/plain": [
       "[{'name': 'Rhona Nichols', 'hireDate': datetime.date(2008, 9, 11)}]"
      ]
     },
     "execution_count": 16,
     "metadata": {},
     "output_type": "execute_result"
    }
   ],
   "source": [
    "cur.fetchall()"
   ]
  },
  {
   "cell_type": "markdown",
   "id": "30d09c55-f99b-43ef-85c9-783a32bfa803",
   "metadata": {},
   "source": [
    "## Server Variables\n",
    "\n",
    "Server variables can be accessed through a number of dictionary-like members on the connection. The members are `globals`, `locals`, `cluster_globals`, `cluster_locals` when a scope is specified, or `vars` and `cluster_vars` for all variables regardless of scope."
   ]
  },
  {
   "cell_type": "code",
   "execution_count": 17,
   "id": "2848360a-e699-4b1a-9cd7-7f363aa56e79",
   "metadata": {},
   "outputs": [
    {
     "data": {
      "text/plain": [
       "{'active_query_users_blacklist': '',\n",
       " 'activities_delta_sleep_s': '1',\n",
       " 'advanced_hdfs_pipelines': False,\n",
       " 'aes_default_encryption_mode': 'aes-128-ecb',\n",
       " 'aggregator_failure_detection': False,\n",
       " 'allow_async_bottomless': False,\n",
       " 'allow_newer_to_older_replication': False,\n",
       " 'allow_proc_cpuinfo_errors': False,\n",
       " 'assert_on_cluster_db_reprovisioning': False,\n",
       " 'async_backup': True,\n",
       " 'auditlog_disk_sync': False,\n",
       " 'auditlog_level': False,\n",
       " 'auditlog_retention_period': '0',\n",
       " 'auditlog_rotation_size': '134217728',\n",
       " 'auditlog_rotation_time': '3600',\n",
       " 'auto_replicate': False,\n",
       " 'autocommit': True,\n",
       " 'backup_max_threads': '0',\n",
       " 'basedir': '/home/ksmith/memsql/release',\n",
       " 'batch_external_functions': 'ALWAYS',\n",
       " 'batch_external_functions_size': '512',\n",
       " 'blob_cache_eviction_policy': 'LRU2',\n",
       " 'blob_cache_threadpool_max_concurrent': '32',\n",
       " 'bottomless_blob_compression_level': '0',\n",
       " 'bottomless_compression_level': '1',\n",
       " 'bottomless_gc_retention_period_minutes': '1440',\n",
       " 'bottomless_gc_retention_period_test_mode': True,\n",
       " 'bottomless_idle_upload_ms': '60000',\n",
       " 'bottomless_incremental_download_max_buffer_size': '1048576',\n",
       " 'bottomless_inject_retriable_download_errors': False,\n",
       " 'bottomless_inject_retriable_upload_errors': False,\n",
       " 'bottomless_skip_create_database_api_checks': False,\n",
       " 'bottomless_snapshot_trigger_log_chunks': '300',\n",
       " 'bottomless_upload_max_concurrent': '8',\n",
       " 'bottomless_upload_throttle_hard_limit_secs': '1800',\n",
       " 'bottomless_upload_throttle_min_disk_limit_mb': '0',\n",
       " 'bottomless_upload_throttle_soft_limit_secs': '600',\n",
       " 'cardinality_estimation_level': '7.3',\n",
       " 'character_set_client': 'utf8',\n",
       " 'character_set_connection': 'utf8',\n",
       " 'character_set_filesystem': 'binary',\n",
       " 'character_set_results': 'utf8',\n",
       " 'character_set_server': 'utf8',\n",
       " 'character_sets_dir': '/home/ksmith/memsql/release/share/charsets/',\n",
       " 'cluster_name': 'memsql_cluster',\n",
       " 'collation_connection': 'utf8_general_ci',\n",
       " 'collation_database': 'utf8_general_ci',\n",
       " 'collation_server': 'utf8_general_ci',\n",
       " 'columnstore_flush_bytes': '33554432',\n",
       " 'columnstore_ingest_management_queue_timeout': '3600',\n",
       " 'columnstore_multicol_index': True,\n",
       " 'columnstore_segment_rows': '1024000',\n",
       " 'columnstore_unique_key_load_merge_factor': '3',\n",
       " 'columnstore_validate_blob_before_merge': False,\n",
       " 'columnstore_window_size': '2147483648',\n",
       " 'compat_version': '',\n",
       " 'compile_only': False,\n",
       " 'compiled_images_eviction_memory_limit_mb': '4096',\n",
       " 'connect_timeout': '10',\n",
       " 'consensus_enabled': False,\n",
       " 'core_file': True,\n",
       " 'core_file_mode': 'PARTIAL',\n",
       " 'core_on_stack_overflow': False,\n",
       " 'crash_on_error_code': '0',\n",
       " 'critical_diagnostics': True,\n",
       " 'critical_diagnostics_max_payload_size': '65536',\n",
       " 'custom_java_pipelines': False,\n",
       " 'data_conversion_compatibility_level': '6.0',\n",
       " 'datadir': '/home/ksmith/memsql/release/data',\n",
       " 'default_autostats_enabled': False,\n",
       " 'default_distributed_ddl_timeout': '180000',\n",
       " 'default_partitions_per_leaf': '3',\n",
       " 'default_storage_engine': '',\n",
       " 'default_table_type': 'columnstore',\n",
       " 'default_user_require_ssl': False,\n",
       " 'derived_table_as_cte_seed': '0',\n",
       " 'disable_eventual_consistency_asserts': False,\n",
       " 'disk_plan_expiration_minutes': '20160',\n",
       " 'dist_txn_outcomes_keepalive_secs': '1800',\n",
       " 'distributed_commit_lock_timeout': '180000',\n",
       " 'enable_alias_space_trim': False,\n",
       " 'enable_background_plan_invalidation': False,\n",
       " 'enable_columnstore_ingest_management': True,\n",
       " 'enable_compilation_deduplication': True,\n",
       " 'enable_compiled_images_eviction': False,\n",
       " 'enable_disk_plan_expiration': True,\n",
       " 'enable_disk_plan_explain': True,\n",
       " 'enable_dml_query_forwarding': True,\n",
       " 'enable_engine_idle_time_tracking': False,\n",
       " 'enable_experimental_metrics': False,\n",
       " 'enable_external_functions': True,\n",
       " 'enable_fips': False,\n",
       " 'enable_query_forwarding': True,\n",
       " 'enable_recursive_ctes': True,\n",
       " 'enable_row_index': True,\n",
       " 'enable_scan_partition_parallelism': True,\n",
       " 'enable_spilling': True,\n",
       " 'enable_subprocess_tracing': False,\n",
       " 'enable_varbuffer_dictionary_compression': False,\n",
       " 'enable_wasm': True,\n",
       " 'expected_leaf_core_count': '8',\n",
       " 'explain_expression_limit': '500',\n",
       " 'explicit_defaults_for_timestamp': True,\n",
       " 'exporter_path': '',\n",
       " 'exporter_port': '0',\n",
       " 'exporter_ssl_ca': '',\n",
       " 'exporter_ssl_capath': '',\n",
       " 'exporter_ssl_cert': '',\n",
       " 'exporter_ssl_key': '',\n",
       " 'exporter_user': 'root',\n",
       " 'external_functions_allowlist': '',\n",
       " 'external_functions_batch_size': '512',\n",
       " 'failover_on_low_disk': True,\n",
       " 'flush_before_replicate': False,\n",
       " 'force_bushy_join_table_limit': '18',\n",
       " 'forwarded_query': False,\n",
       " 'general_log': False,\n",
       " 'geo_sphere_radius': '6367444.657120',\n",
       " 'global_versioning': True,\n",
       " 'gssapi_keytab_path': '',\n",
       " 'gssapi_principal_name': '',\n",
       " 'highlight_fragment_size': '100',\n",
       " 'highlight_max_number_fragments': '0',\n",
       " 'hostname': 'mate',\n",
       " 'http_api': True,\n",
       " 'http_api_max_idle_seconds': '86400',\n",
       " 'http_api_max_lifetime_seconds': '0',\n",
       " 'http_api_pool_capacity': '2048',\n",
       " 'http_api_pool_max_idle': '1024',\n",
       " 'http_api_session_vars': '',\n",
       " 'http_proxy_port': '8100',\n",
       " 'https_proxy_port': '0',\n",
       " 'identity': '0',\n",
       " 'ingest_errors_max_disk_space_mb': '102400',\n",
       " 'interpreter_mode': 'INTERPRET_FIRST',\n",
       " 'java_extractor_max_memory': '500',\n",
       " 'java_pipelines_class_path': '',\n",
       " 'java_pipelines_extractor_class': '',\n",
       " 'java_pipelines_heap_size': '8',\n",
       " 'java_pipelines_java_home': '',\n",
       " 'java_pipelines_java_path': '',\n",
       " 'json_compatibility_level': '8.0',\n",
       " 'json_extract_string_collation': 'auto',\n",
       " 'jwks_endpoint': '',\n",
       " 'jwks_ssl_ca_certificate': '',\n",
       " 'jwks_update_interval': '3600',\n",
       " 'jwt_auth_config_file': '',\n",
       " 'large_txs_and_blobs': False,\n",
       " 'lc_messages': 'en_US',\n",
       " 'lc_messages_dir': '/home/ksmith/memsql/release/share',\n",
       " 'leaf_failover_fanout': 'paired',\n",
       " 'leaf_failure_detection': False,\n",
       " 'load_data_cpu_arch': '0',\n",
       " 'load_data_errors_retention_minutes': '1440',\n",
       " 'load_data_internal_compression': True,\n",
       " 'load_data_max_buffer_size': '1073741823',\n",
       " 'load_data_read_size': '8192',\n",
       " 'load_data_write_size': '8192',\n",
       " 'lock_wait_timeout': '60',\n",
       " 'lockfree_backup': True,\n",
       " 'log_file_size_partitions': '16777216',\n",
       " 'log_file_size_ref_dbs': '16777216',\n",
       " 'master_aggregator': 'self',\n",
       " 'master_promote_kill_timeout_seconds': '10',\n",
       " 'max_allowed_packet': '104857600',\n",
       " 'max_async_compilation_concurrency': '0',\n",
       " 'max_compilation_memory_mb': '4096',\n",
       " 'max_compilation_time_s': '600',\n",
       " 'max_connection_threads': '256',\n",
       " 'max_connections': '1000',\n",
       " 'max_dedicated_admin_connections': '5',\n",
       " 'max_optimizer_join_threads': '8',\n",
       " 'max_pooled_connections': '128',\n",
       " 'max_prefetch_threads': '1',\n",
       " 'max_prepared_stmt_count': '16382',\n",
       " 'max_user_connections': '0',\n",
       " 'maximum_blob_cache_size_mb': '40960',\n",
       " 'maximum_memory': '57861',\n",
       " 'maximum_table_memory': '52074',\n",
       " 'memsql_build_flavor': 'release',\n",
       " 'memsql_id': '2217B750A02FB104556516E3A38DB8523E40A7B3',\n",
       " 'memsql_original_server_version': '8.0.0',\n",
       " 'memsql_snapshot_trigger_size': '134217728',\n",
       " 'memsql_version': '8.0.0',\n",
       " 'memsql_version_date': 'Wed Sep 28 13:58:08 2022 -0500',\n",
       " 'memsql_version_hash': '89db6aec6ab9295167c1c014762f551f67876c06',\n",
       " 'minimal_disk_space': '100',\n",
       " 'monitoring_retention_period': '10080',\n",
       " 'multi_insert_tuple_count': '20000',\n",
       " 'multi_statement_xact_idle_timeout': '300',\n",
       " 'net_buffer_length': '102400',\n",
       " 'net_read_timeout': '3600',\n",
       " 'net_write_timeout': '3600',\n",
       " 'no_bottomless_fsyncs': False,\n",
       " 'node_degree_of_parallelism': '0',\n",
       " 'node_disk_low_threshold_mb': '10240',\n",
       " 'node_memory_low_threshold_mb': '512',\n",
       " 'node_ping_latency_high_threshold_ms': '1000.000000',\n",
       " 'node_replication_ssl_only': False,\n",
       " 'null_timestamps_for_testing': False,\n",
       " 'page_ack_delays': False,\n",
       " 'parametrizer_query_max_params': '1048576',\n",
       " 'password_max_consec_repeat_chars': '0',\n",
       " 'password_max_consec_sequential_chars': '0',\n",
       " 'password_min_length': '0',\n",
       " 'password_min_lowercase_chars': '0',\n",
       " 'password_min_numeric_chars': '0',\n",
       " 'password_min_special_chars': '0',\n",
       " 'password_min_uppercase_chars': '0',\n",
       " 'pause_recovery': False,\n",
       " 'performance_schema': False,\n",
       " 'pid_file': '/home/ksmith/memsql/release/data/mate.pid',\n",
       " 'pipelines_batches_metadata_to_keep': '1000',\n",
       " 'pipelines_deskew_batch_partitions_threshold': '0.750000',\n",
       " 'pipelines_errors_retention_minutes': '1440',\n",
       " 'pipelines_extractor_core_on_timeout': False,\n",
       " 'pipelines_extractor_debug_logging': False,\n",
       " 'pipelines_extractor_max_memory': '500',\n",
       " 'pipelines_gc_max_files': '10000',\n",
       " 'pipelines_kafka_version': '0.8.2.2',\n",
       " 'pipelines_max_concurrent': '50',\n",
       " 'pipelines_max_concurrent_batch_partitions': '0',\n",
       " 'pipelines_max_errors_per_partition': '1000',\n",
       " 'pipelines_max_offsets_per_batch_partition': '1000000',\n",
       " 'pipelines_max_pooled_extractors': '256',\n",
       " 'pipelines_max_retries_per_batch_partition': '4',\n",
       " 'pipelines_offsets_gc_skew_time_minutes': '1440',\n",
       " 'pipelines_pooled_extractor_batches': '256',\n",
       " 'pipelines_stderr_bufsize': '65535',\n",
       " 'pipelines_stop_on_error': True,\n",
       " 'pipelines_stored_proc_exactly_once': True,\n",
       " 'plan_expiration_minutes': '720',\n",
       " 'port': '3306',\n",
       " 'print_tree': '0',\n",
       " 'privilege_transfer_mode': 'grant_option',\n",
       " 'processlist_rpc_json_max_size': '2048',\n",
       " 'promote_aggregator_timeout_ms': '180000',\n",
       " 'protocol_version': '10',\n",
       " 'query_parallelism': '0',\n",
       " 'query_parallelism_per_leaf_core': '0.000000',\n",
       " 'query_shape_serialization_enabled': 'AUTO',\n",
       " 'query_shape_serialization_file_size_cap': '1048576',\n",
       " 'query_shape_serialization_show_parameters': True,\n",
       " 'read_advanced_counters': False,\n",
       " 'redundancy_level': '1',\n",
       " 'regexp_compile_mem_mb': '2',\n",
       " 'regexp_format': 'extended',\n",
       " 'replstress_stackhasher': False,\n",
       " 'replstress_stackhasher_kill': False,\n",
       " 'resource_governor_cpu_limit_mode': 'SOFT',\n",
       " 'resource_pool': 'default_pool',\n",
       " 'resource_pool_statement_selector_function': '',\n",
       " 'resource_usage_model': False,\n",
       " 'result_table_error_lifetime': '1000',\n",
       " 'rowstore_gc_thread_count': '2',\n",
       " 'saml_assertion_audience': 'sp.memsql.com',\n",
       " 'saml_message_recipient': '',\n",
       " 'saml_private_decryption_key': '../memsqltest/script_tests/security/saml/files/sp.pem',\n",
       " 'saml_require_encryption': False,\n",
       " 'saml_require_signature_validation': False,\n",
       " 'saml_use_NameID': False,\n",
       " 'saml_user_name_attribute': 'roles',\n",
       " 'saml_x509_certificate': '../memsqltest/script_tests/security/saml/files/idp.crt',\n",
       " 'secure_file_priv': '',\n",
       " 'service_edition': 'STANDARD',\n",
       " 'show_query_parameters': True,\n",
       " 'show_with_portability_comments': False,\n",
       " 'skip_incremental_backup_safety_checks': False,\n",
       " 'skip_name_resolve': 'AUTO',\n",
       " 'skynet_fscache_sim_inject_enomem': True,\n",
       " 'skynet_out_of_disk_simulation': '0.000000',\n",
       " 'snapshot_trigger_size': '2147483648',\n",
       " 'snapshot_wait_for_blob_gc_seconds': '180',\n",
       " 'snapshots_to_keep': '2',\n",
       " 'socket': '/home/ksmith/memsql/release/data/memsql.sock',\n",
       " 'some_sync_var': '0',\n",
       " 'sp_query_dynamic_param': 'AUTO',\n",
       " 'spilling_minimal_disk_space': '500',\n",
       " 'spilling_node_memory_threshold_ratio': '0.750000',\n",
       " 'spilling_query_operator_memory_threshold': '104857600',\n",
       " 'sql_quote_show_create': True,\n",
       " 'sql_select_limit': '18446744073709551615',\n",
       " 'ssl_ca': '',\n",
       " 'ssl_capath': '',\n",
       " 'ssl_cert': '',\n",
       " 'ssl_cipher': '',\n",
       " 'ssl_fips_mode': False,\n",
       " 'ssl_key': '',\n",
       " 'ssl_last_reload_attempt_time': '',\n",
       " 'ssl_last_successful_reload_time': '',\n",
       " 'sub_to_physical_partition_ratio': '0',\n",
       " 'subproc_abridged_errors': True,\n",
       " 'subprocess_azure_retries': '10',\n",
       " 'subprocess_backup_retries': '3',\n",
       " 'subprocess_ec2_metadata_timeout_ms': '60000',\n",
       " 'subprocess_io_idle_timeout_ms': '600000',\n",
       " 'sync_durable_tables': False,\n",
       " 'sync_permissions': False,\n",
       " 'sync_slave_timeout': '10000',\n",
       " 'system_time_zone': 'CST',\n",
       " 'table_name_case_sensitivity': True,\n",
       " 'test_physical_threads': '0',\n",
       " 'test_with_auto_replicate': False,\n",
       " 'thread_cache_size': '0',\n",
       " 'thread_handling': 'one-thread-per-connection',\n",
       " 'thread_stack': '1048576',\n",
       " 'thread_stackoverflow_guard_size_factor': '2',\n",
       " 'time_zone': 'SYSTEM',\n",
       " 'tls_version': 'TLSv1,TLSv1.1,TLSv1.2',\n",
       " 'tmpdir': '.',\n",
       " 'transaction_buffer': '134217728',\n",
       " 'transaction_isolation': 'READ-COMMITTED',\n",
       " 'trim_malloc': True,\n",
       " 'two_phase_commit': False,\n",
       " 'tx_isolation': 'READ-COMMITTED',\n",
       " 'upgraded_variables': True,\n",
       " 'use_avx2': True,\n",
       " 'use_join_Bucket_bit_vector': True,\n",
       " 'use_merge_on_encoded_data': 'AUTO',\n",
       " 'use_vectorized_join': True,\n",
       " 'version': '5.7.32',\n",
       " 'version_comment': 'MemSQL source distribution (compatible; MySQL Enterprise & MySQL Commercial)',\n",
       " 'version_compile_machine': 'x86_64',\n",
       " 'version_compile_os': 'Linux',\n",
       " 'warn_level': 'WARNINGS',\n",
       " 'wasm_alloc_max_flex_size': '2097152',\n",
       " 'wasm_alloc_retry_count': '3',\n",
       " 'wasm_alloc_retry_interval': '1000',\n",
       " 'wasm_create_from_url': True,\n",
       " 'wasm_max_compiled_module_size': '26214400',\n",
       " 'wasm_max_linear_memory_size': '16777216',\n",
       " 'wasm_max_raw_module_size': '26214400',\n",
       " 'workload_management': False,\n",
       " 'workload_management_enable_static_partitioning': False,\n",
       " 'workload_management_expected_aggregators': '0',\n",
       " 'workload_management_max_connections_per_leaf': '10000',\n",
       " 'workload_management_max_queue_depth': '100',\n",
       " 'workload_management_max_threads_per_leaf': '8192',\n",
       " 'workload_management_memory_queue_threshold': '0.010000',\n",
       " 'workload_management_memory_queuing': True,\n",
       " 'workload_management_queue_time_warning_ratio': '0.500000',\n",
       " 'workload_management_queue_timeout': '3600'}"
      ]
     },
     "execution_count": 17,
     "metadata": {},
     "output_type": "execute_result"
    }
   ],
   "source": [
    "dict(conn.globals)"
   ]
  },
  {
   "cell_type": "code",
   "execution_count": 18,
   "id": "2b99c50d-392c-4a9a-ba8f-05c0fe3b51e5",
   "metadata": {},
   "outputs": [],
   "source": [
    "conn.globals.enable_external_functions = True"
   ]
  },
  {
   "cell_type": "code",
   "execution_count": 19,
   "id": "38531d42-b6b5-48d1-ae46-6c44c0b43669",
   "metadata": {},
   "outputs": [
    {
     "data": {
      "text/plain": [
       "True"
      ]
     },
     "execution_count": 19,
     "metadata": {},
     "output_type": "execute_result"
    }
   ],
   "source": [
    "conn.globals.enable_external_functions"
   ]
  },
  {
   "cell_type": "code",
   "execution_count": 20,
   "id": "c8e6af50-d1b7-44ac-ba40-8753a09956e6",
   "metadata": {},
   "outputs": [
    {
     "data": {
      "text/plain": [
       "[{'Variable_name': 'enable_external_functions', 'Value': 'ON'}]"
      ]
     },
     "execution_count": 20,
     "metadata": {},
     "output_type": "execute_result"
    }
   ],
   "source": [
    "cur.execute('show variables like \"enable_external_functions\"')\n",
    "cur.fetchall()"
   ]
  },
  {
   "cell_type": "markdown",
   "id": "871e5850-268f-42d5-85d7-1c03c3669ab6",
   "metadata": {},
   "source": [
    "## Enabling the HTTP API"
   ]
  },
  {
   "cell_type": "markdown",
   "id": "327ccd7e-9aae-4e7d-ae9d-fb76cc9af99c",
   "metadata": {},
   "source": [
    "The HTTP API can be enabled using the `conn.enable_http_api` method. This method can optionally set the port number.\n",
    "If a port number is not specified, the existing setting will be used. The port number is returned."
   ]
  },
  {
   "cell_type": "code",
   "execution_count": 21,
   "id": "93f07e97-bd0c-4e8f-9f7c-ac9b3abd422d",
   "metadata": {},
   "outputs": [
    {
     "data": {
      "text/plain": [
       "8100"
      ]
     },
     "execution_count": 21,
     "metadata": {},
     "output_type": "execute_result"
    }
   ],
   "source": [
    "conn.enable_http_api(port=8100)"
   ]
  },
  {
   "cell_type": "markdown",
   "id": "66627c6c-9b90-4965-8c36-6fbbd13b8600",
   "metadata": {},
   "source": [
    "## Create an HTTP connection"
   ]
  },
  {
   "cell_type": "code",
   "execution_count": 22,
   "id": "dd81038d-ac46-4a41-8cee-84f717ec07a9",
   "metadata": {},
   "outputs": [],
   "source": [
    "s2.options.results.type = 'namedtuples'"
   ]
  },
  {
   "cell_type": "code",
   "execution_count": 23,
   "id": "991f4a67-926e-4bee-b6f5-c90138f6246f",
   "metadata": {},
   "outputs": [],
   "source": [
    "http_conn = s2.connect('http://root:@localhost:8100/x_db')"
   ]
  },
  {
   "cell_type": "code",
   "execution_count": 24,
   "id": "126dcaee-86c2-40a1-bccd-21dfb897918d",
   "metadata": {},
   "outputs": [],
   "source": [
    "http_cur = http_conn.cursor()"
   ]
  },
  {
   "cell_type": "markdown",
   "id": "90b23fb6-0bc6-4a4a-a5dc-fc4cf288bf9f",
   "metadata": {},
   "source": [
    "## Query data using the HTTP connection"
   ]
  },
  {
   "cell_type": "code",
   "execution_count": 25,
   "id": "5f688cce-13d6-422b-9545-ff6640740dca",
   "metadata": {},
   "outputs": [
    {
     "data": {
      "text/plain": [
       "10"
      ]
     },
     "execution_count": 25,
     "metadata": {},
     "output_type": "execute_result"
    }
   ],
   "source": [
    "http_cur.execute('select name from employees')"
   ]
  },
  {
   "cell_type": "code",
   "execution_count": 26,
   "id": "157d9b25-c8a5-4ea9-a80d-7cdda34bedb0",
   "metadata": {},
   "outputs": [
    {
     "data": {
      "text/plain": [
       "[Description(name='name', type_code=253, display_size=None, internal_size=None, precision=None, scale=None, null_ok=True, flags=0, charset=0)]"
      ]
     },
     "execution_count": 26,
     "metadata": {},
     "output_type": "execute_result"
    }
   ],
   "source": [
    "http_cur.description"
   ]
  },
  {
   "cell_type": "code",
   "execution_count": 27,
   "id": "1aae5616-9ebf-4a43-93ce-da70bc9d2019",
   "metadata": {},
   "outputs": [
    {
     "data": {
      "text/plain": [
       "[Row(name='Karly Steele'),\n",
       " Row(name='Rhona Nichols'),\n",
       " Row(name='Hedda Kent'),\n",
       " Row(name='Orli Strong'),\n",
       " Row(name='Cooper Hatfield'),\n",
       " Row(name='Doris Munoz'),\n",
       " Row(name='Timothy Battle'),\n",
       " Row(name='Alea Wiggins'),\n",
       " Row(name='Leonard Haynes'),\n",
       " Row(name='Colette Payne')]"
      ]
     },
     "execution_count": 27,
     "metadata": {},
     "output_type": "execute_result"
    }
   ],
   "source": [
    "http_cur.fetchall()"
   ]
  },
  {
   "cell_type": "code",
   "execution_count": 28,
   "id": "d4863d2f-40c7-4b41-88d0-91342d97da1f",
   "metadata": {},
   "outputs": [
    {
     "data": {
      "text/plain": [
       "1"
      ]
     },
     "execution_count": 28,
     "metadata": {},
     "output_type": "execute_result"
    }
   ],
   "source": [
    "http_cur.execute('select name, hireDate from employees where name like %s', ['%Rhona%'])"
   ]
  },
  {
   "cell_type": "code",
   "execution_count": 29,
   "id": "3c3e7057-3170-4309-b298-2875896d29aa",
   "metadata": {},
   "outputs": [
    {
     "data": {
      "text/plain": [
       "[Description(name='name', type_code=253, display_size=None, internal_size=None, precision=None, scale=None, null_ok=True, flags=0, charset=0),\n",
       " Description(name='hireDate', type_code=10, display_size=None, internal_size=None, precision=None, scale=None, null_ok=True, flags=0, charset=0)]"
      ]
     },
     "execution_count": 29,
     "metadata": {},
     "output_type": "execute_result"
    }
   ],
   "source": [
    "http_cur.description"
   ]
  },
  {
   "cell_type": "code",
   "execution_count": 30,
   "id": "e7bca74b-ce87-4ede-85d4-11c7a9d27d22",
   "metadata": {},
   "outputs": [
    {
     "data": {
      "text/plain": [
       "[Row(name='Rhona Nichols', hireDate=datetime.date(2008, 9, 11))]"
      ]
     },
     "execution_count": 30,
     "metadata": {},
     "output_type": "execute_result"
    }
   ],
   "source": [
    "df = http_cur.fetchall()\n",
    "df"
   ]
  },
  {
   "cell_type": "markdown",
   "id": "38ea5947-c15d-4b4c-b64d-ab5a1203e27a",
   "metadata": {},
   "source": [
    "## Workspace Management\n",
    "\n",
    "The objects allow you to manage workspaces and create database connections to those workspaces. In order for this call\n",
    "to work, you either need to pass in a cluster management API token or have one set in your `SINGLESTOREDB_MANAGEMENT_TOKEN` environment variable."
   ]
  },
  {
   "cell_type": "code",
   "execution_count": 31,
   "id": "46c2ddca-6e38-4faa-bbe3-f2e227084359",
   "metadata": {},
   "outputs": [],
   "source": [
    "wm = s2.manage_workspaces()"
   ]
  },
  {
   "cell_type": "markdown",
   "id": "7f0f0921-1bf8-48ab-adf4-85f92d9578ed",
   "metadata": {},
   "source": [
    "### Get Current Clusters and Regions"
   ]
  },
  {
   "cell_type": "code",
   "execution_count": 32,
   "id": "1dfc1064-84d0-4027-a426-b9a964051dd3",
   "metadata": {},
   "outputs": [
    {
     "data": {
      "text/plain": [
       "[WorkspaceGroup(created_at=datetime.datetime(2022, 12, 1, 0, 0), firewall_ranges=['0.0.0.0/0'], id='1b51e41d-79a9-4bbb-9343-494088fa23b5', name='Python Client Testing', region=Region(id='6be78bc7-5b35-4272-959f-8829b6f8bc63', name='US East 1 (N. Virginia)', provider='AWS'))]"
      ]
     },
     "execution_count": 32,
     "metadata": {},
     "output_type": "execute_result"
    }
   ],
   "source": [
    "wm.workspace_groups"
   ]
  },
  {
   "cell_type": "code",
   "execution_count": 33,
   "id": "74e5336b-51ec-42ad-bd1c-6f324e05d49d",
   "metadata": {},
   "outputs": [
    {
     "data": {
      "text/plain": [
       "[Region(id='0bbbde94-7c33-4592-95bc-470332396a82', name='Asia Southeast 1 (Singapore)', provider='GCP'),\n",
       " Region(id='1c1de314-2cc0-4c74-bd54-5047ff90842e', name='US West 1 (Oregon)', provider='GCP'),\n",
       " Region(id='22a913e1-ace5-4362-afa0-3d21a01d6d1c', name='US Central 1 (Iowa)', provider='GCP'),\n",
       " Region(id='3186a27b-87d5-4b84-a93b-90c57fd2be74', name='Asia South 1 (Mumbai)', provider='GCP'),\n",
       " Region(id='35551562-6d39-4e14-8747-0f42114a330b', name='Europe West 1 (Ireland)', provider='AWS'),\n",
       " Region(id='3d226d4b-90b4-4a8d-848c-6c8403ee905c', name='Asia Pacific Southeast 1 (Singapore)', provider='AWS'),\n",
       " Region(id='3de9e276-1c93-4987-9463-5700aa08a837', name='US West 2 (Oregon)', provider='AWS'),\n",
       " Region(id='57ba8143-d4cc-470a-901f-871c684ee2bc', name='Europe North 1 (Stockholm)', provider='AWS'),\n",
       " Region(id='6be78bc7-5b35-4272-959f-8829b6f8bc63', name='US East 1 (N. Virginia)', provider='AWS'),\n",
       " Region(id='6e1b6fae-fe87-4aaa-bc6e-55d9e4c23806', name='Asia Southeast 2 (Jakarta)', provider='GCP'),\n",
       " Region(id='6e218f48-a71f-4521-8c7c-53d0ef087a42', name='Europe West 1 (Belgium)', provider='GCP'),\n",
       " Region(id='7b9163df-67b0-45fb-985b-e571fbcb3792', name='South America East 1 (Sao Paulo)', provider='AWS'),\n",
       " Region(id='7e7ffd27-20f7-44b6-87e6-e72828a81ac7', name='Europe Central 1 (Frankfurt)', provider='AWS'),\n",
       " Region(id='7edebe18-2fdf-43c3-95b9-e4e83f17c756', name='Europe West 4 (Netherlands)', provider='GCP'),\n",
       " Region(id='86e33c9f-a635-4320-807e-500f97cc8e1f', name='Asia Pacific South 1 (Mumbai)', provider='AWS'),\n",
       " Region(id='88b166e9-580a-4b26-801e-170a6bfb3e5c', name='Africa South 1 (Cape Town)', provider='AWS'),\n",
       " Region(id='90b70be1-6ca6-48c2-9651-f40aa1fa3cee', name='South Central US (Texas)', provider='Azure'),\n",
       " Region(id='93b61160-0cae-4e11-a5de-977b8e2e3ee5', name='US East 4 (N. Virginia)', provider='GCP'),\n",
       " Region(id='976e6b6b-deb2-4041-987e-54c4641e3f7f', name='Asia Pacific Southeast 3 (Jakarta)', provider='AWS'),\n",
       " Region(id='9939d0fb-e4f0-448c-b849-23121138e88a', name='Europe North 1 (Finland)', provider='GCP'),\n",
       " Region(id='99b1a977-cde0-496f-8c2e-0946b2f444db', name='Canada Central 1 (Montreal)', provider='AWS'),\n",
       " Region(id='b7cfe010-204a-4b70-8611-887bf35dc184', name='US East 2 (Ohio)', provider='AWS'),\n",
       " Region(id='c04471f4-5d89-46e1-8d1e-76b8282ea0df', name='Europe West 3 (Paris)', provider='AWS'),\n",
       " Region(id='c74bb6a6-0f14-4d56-bc80-1d874fa277b7', name='Asia Pacific Southeast 2 (Sydney)', provider='AWS'),\n",
       " Region(id='ccb99d91-e9da-43f9-a0ce-b7b09d2b30fb', name='Central India (Pune)', provider='Azure'),\n",
       " Region(id='e8f6f596-6fba-4b87-adb1-7f9e960c7c78', name='East US 1 (Virginia)', provider='Azure'),\n",
       " Region(id='ef8d7728-c25c-465c-bd4f-46aa728c01fc', name='West Europe (Netherlands)', provider='Azure')]"
      ]
     },
     "execution_count": 33,
     "metadata": {},
     "output_type": "execute_result"
    }
   ],
   "source": [
    "wm.regions"
   ]
  },
  {
   "cell_type": "markdown",
   "id": "0f0d5e33-caae-493b-a8ec-0207a7188c94",
   "metadata": {},
   "source": [
    "### Create a Workspace Group"
   ]
  },
  {
   "cell_type": "code",
   "execution_count": 34,
   "id": "502fe29f-d5ec-4cb1-a826-f46ef2307606",
   "metadata": {},
   "outputs": [],
   "source": [
    "import secrets\n",
    "password = secrets.token_urlsafe(20)"
   ]
  },
  {
   "cell_type": "code",
   "execution_count": 36,
   "id": "fa266e16-84f2-4c5b-909f-b922979d2f3c",
   "metadata": {},
   "outputs": [
    {
     "data": {
      "text/plain": [
       "WorkspaceGroup(created_at=datetime.datetime(2022, 12, 7, 0, 0), id='6dba376f-4d25-4c9b-a2f0-31f2bd7d1af9', name='Demo Workspace Group', region=Region(id='1c1de314-2cc0-4c74-bd54-5047ff90842e', name='US West 1 (Oregon)', provider='GCP'))"
      ]
     },
     "execution_count": 36,
     "metadata": {},
     "output_type": "execute_result"
    }
   ],
   "source": [
    "wg = wm.create_workspace_group(\n",
    "    'Demo Workspace Group', \n",
    "    region=[x for x in wm.regions if x.name.startswith('US')][0],\n",
    "    admin_password=password, \n",
    "    firewall_ranges=['0.0.0.0/0'],\n",
    ")\n",
    "wg"
   ]
  },
  {
   "cell_type": "markdown",
   "id": "2cf37482-5550-4db2-b7cf-6cfb8a59400f",
   "metadata": {},
   "source": [
    "### Create a Workspace in the Group"
   ]
  },
  {
   "cell_type": "code",
   "execution_count": 37,
   "id": "d03b7139-6d2a-462b-9446-a24a395d47b2",
   "metadata": {},
   "outputs": [],
   "source": [
    "ws = wg.create_workspace('workspace-1', wait_on_active=True)"
   ]
  },
  {
   "cell_type": "code",
   "execution_count": 38,
   "id": "3739511f-90ea-4fd2-9698-a68248566cb4",
   "metadata": {},
   "outputs": [
    {
     "data": {
      "text/plain": [
       "Workspace(created_at=datetime.datetime(2022, 12, 7, 0, 0), endpoint='svc-6dba376f-4d25-4c9b-8f70-f69608be78c7-dml.gcp-oregon-1.svc.singlestore.com', group_id='6dba376f-4d25-4c9b-a2f0-31f2bd7d1af9', id='7936231a-dc53-4a83-8f70-f69608be78c7', name='workspace-1', size='S-00', state='ACTIVE')"
      ]
     },
     "execution_count": 38,
     "metadata": {},
     "output_type": "execute_result"
    }
   ],
   "source": [
    "ws"
   ]
  },
  {
   "cell_type": "markdown",
   "id": "4db5704c-d6b4-41c2-9bf1-7e40239251ed",
   "metadata": {},
   "source": [
    "### Connect to the Workspace"
   ]
  },
  {
   "cell_type": "code",
   "execution_count": 39,
   "id": "b9c01106-2178-43c3-bec9-9087d38f78aa",
   "metadata": {},
   "outputs": [
    {
     "name": "stdout",
     "output_type": "stream",
     "text": [
      "[singlestoredb.Row(Database='cluster'), singlestoredb.Row(Database='information_schema'), singlestoredb.Row(Database='memsql')]\n"
     ]
    }
   ],
   "source": [
    "with ws.connect(user='admin', password=password) as conn:\n",
    "    with conn.cursor() as cur:\n",
    "        cur.execute('show databases')\n",
    "        print(cur.fetchall())"
   ]
  },
  {
   "cell_type": "code",
   "execution_count": 40,
   "id": "78bfe288-6cf4-4e34-a6a5-3ca2e495cab5",
   "metadata": {},
   "outputs": [],
   "source": [
    "ws.terminate(wait_on_terminated=True)\n",
    "wg.terminate()"
   ]
  },
  {
   "cell_type": "code",
   "execution_count": null,
   "id": "0ad6d4dc-d915-4fdd-bf3c-9ebcf181ed95",
   "metadata": {},
   "outputs": [],
   "source": []
  }
 ],
 "metadata": {
  "kernelspec": {
   "display_name": "Python 3 (ipykernel)",
   "language": "python",
   "name": "python3"
  },
  "language_info": {
   "codemirror_mode": {
    "name": "ipython",
    "version": 3
   },
   "file_extension": ".py",
   "mimetype": "text/x-python",
   "name": "python",
   "nbconvert_exporter": "python",
   "pygments_lexer": "ipython3",
   "version": "3.9.4"
  }
 },
 "nbformat": 4,
 "nbformat_minor": 5
}
